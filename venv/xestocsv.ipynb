{
 "cells": [
  {
   "cell_type": "code",
   "execution_count": null,
   "metadata": {
    "collapsed": true
   },
   "outputs": [],
   "source": [
    "# make a csv file from an xes file for the remaining time prediction\n",
    "# reference: https://github.com/opyenxes/OpyenXes/tree/2018-bpm-demo/example\n",
    "\n",
    "import pandas as pd\n",
    "import numpy as np\n",
    "import os, sys\n",
    "\n",
    "from opyenxes.extension.XExtensionParser import XExtensionParser\n",
    "from opyenxes.extension.XExtensionManager import XExtensionManager\n",
    "from opyenxes.data_in.XUniversalParser import XUniversalParser\n",
    "from opyenxes.model.XEvent import XEvent\n",
    "from opyenxes.model.XTrace import XTrace\n",
    "from opyenxes.model.XAttributeBoolean import XAttributeBoolean\n",
    "from opyenxes.model.XAttributeCollection import XAttributeCollection\n",
    "from opyenxes.model.XAttributeContainer import XAttributeContainer\n",
    "from opyenxes.model.XAttributeContinuous import XAttributeContinuous\n",
    "from opyenxes.model.XAttributeDiscrete import XAttributeDiscrete\n",
    "from opyenxes.model.XAttributeID import XAttributeID\n",
    "from opyenxes.model.XAttributeList import XAttributeList\n",
    "from opyenxes.model.XAttributeLiteral import XAttributeLiteral\n",
    "from opyenxes.model.XAttributeMap import XAttributeMap\n",
    "from opyenxes.model.XAttributeTimestamp import XAttributeTimestamp\n",
    "\n",
    "# We must parse the new extension, can be the link or the xml file\n",
    "print(\"[info] XExtensionParser starts the extension parsing\");\n",
    "meta_general = XExtensionParser().parse(\"http://www.xes-standard.org/meta_general.xesext\")\n",
    "meta_concept = XExtensionParser().parse(\"http://www.xes-standard.org/meta_concept.xesext\")\n",
    "meta_time = XExtensionParser().parse(\"http://www.xes-standard.org/meta_time.xesext\")\n",
    "ext_concept = XExtensionParser().parse(\"http://www.xes-standard.org/concept.xesext\")\n",
    "ext_time = XExtensionParser().parse(\"http://www.xes-standard.org/time.xesext\")\n",
    "ext_lifecycle = XExtensionParser().parse(\"http://www.xes-standard.org/lifecycle.xesext\")\n",
    "print(\"[info] XExtensionParser completed the extension parsing\");\n",
    "\n",
    "# Then we register the new extension\n",
    "print(\"[info] XExtensionManager starts the registration of extensions\");\n",
    "XExtensionManager().register(meta_general)\n",
    "XExtensionManager().register(meta_concept)\n",
    "XExtensionManager().register(meta_time)\n",
    "XExtensionManager().register(ext_concept)\n",
    "XExtensionManager().register(ext_time)\n",
    "XExtensionManager().register(ext_lifecycle)\n",
    "print(\"[info] XExtensionManager completed the registration of extensions\");\n",
    "\n",
    "# Now we can parse\n",
    "with open(\"./data/bpic2012_t100.xes\") as file:\n",
    "    logs = XUniversalParser().parse(file)"
   ]
  },
  {
   "cell_type": "code",
   "execution_count": null,
   "metadata": {},
   "outputs": [],
   "source": [
    "log = logs[0]\n",
    "log_dict = {'case_id':[], 'concept:name':[], 'lifecycle:transition':[], 'time:timestamp':[]}\n",
    "\n",
    "for trace in log:\n",
    "    # extract the case id from the <trace> tag\n",
    "    case_id = trace.get_attributes()['concept:name'].get_value()\n",
    "    for event in trace:\n",
    "        # except the event whose 'lifecycle:transition' is 'schedule'\n",
    "        if event.get_attributes()['lifecycle:transition'].get_value().lower() != 'schedule':\n",
    "            log_dict['case_id'].append(case_id)\n",
    "            # items() returns <key, value> pairs of the attributes in the event\n",
    "            attrs = event.get_attributes().items()\n",
    "            for key, value in attrs:\n",
    "                if value.get_key() == 'concept:name':\n",
    "                    log_dict['concept:name'].append(value.get_value())\n",
    "                elif value.get_key() == 'time:timestamp':\n",
    "                    log_dict['time:timestamp'].append(value.get_value())\n",
    "                elif value.get_key() == 'lifecycle:transition':\n",
    "                    log_dict['lifecycle:transition'].append(value.get_value())\n",
    "\n",
    "log_df = pd.DataFrame(log_dict)\n",
    "print(log_df)\n",
    "\n",
    "output_file = \"./data/output.csv\"\n",
    "log_df.to_csv(output_file, index_label='index')"
   ]
  }
 ],
 "metadata": {
  "kernelspec": {
   "display_name": "Python 2",
   "language": "python",
   "name": "python2"
  },
  "language_info": {
   "codemirror_mode": {
    "name": "ipython",
    "version": 2
   },
   "file_extension": ".py",
   "mimetype": "text/x-python",
   "name": "python",
   "nbconvert_exporter": "python",
   "pygments_lexer": "ipython2",
   "version": "2.7.6"
  }
 },
 "nbformat": 4,
 "nbformat_minor": 0
}
